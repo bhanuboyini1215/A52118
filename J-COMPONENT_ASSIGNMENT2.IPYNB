{
  "nbformat": 4,
  "nbformat_minor": 0,
  "metadata": {
    "colab": {
      "name": "MSE.ipynb",
      "provenance": [],
      "collapsed_sections": [],
      "authorship_tag": "ABX9TyMOyi6F7NfvHSYF/Z8fACmK",
      "include_colab_link": true
    },
    "kernelspec": {
      "name": "python3",
      "display_name": "Python 3"
    },
    "language_info": {
      "name": "python"
    }
  },
  "cells": [
    {
      "cell_type": "markdown",
      "metadata": {
        "id": "view-in-github",
        "colab_type": "text"
      },
      "source": [
        "<a href=\"https://colab.research.google.com/github/2003A52127/graph/blob/main/MSE.ipynb\" target=\"_parent\"><img src=\"https://colab.research.google.com/assets/colab-badge.svg\" alt=\"Open In Colab\"/></a>"
      ]
    },
    {
      "cell_type": "code",
      "metadata": {
        "id": "f6M7s9G8pIgl"
      },
      "source": [
        "import numpy as np"
      ],
      "execution_count": null,
      "outputs": []
    },
    {
      "cell_type": "code",
      "metadata": {
        "id": "7XNMZrEyp8Tx"
      },
      "source": [
        "from matplotlib import pyplot as plt"
      ],
      "execution_count": null,
      "outputs": []
    },
    {
      "cell_type": "code",
      "metadata": {
        "id": "TDc3NC-qqA94"
      },
      "source": [
        "b0 = np.array([1235, 1500, 1850, 2000])\n",
        "b1 = np.array([1900, 1950, 2000, 2100])\n",
        "x = np.array([3.2, 3.2, 3.7, 3.9, 4, 4, 4.1, 4.5, 4.9, 5.1, 5.3, 5.9, 6])\n",
        "y = np.array([54445, 64445, 57189, 63218, 55794, 56957, 57081, 61111, 67938, 66029, 83088, 81363, 93940]) \n",
        "size = x.size"
      ],
      "execution_count": null,
      "outputs": []
    },
    {
      "cell_type": "code",
      "metadata": {
        "colab": {
          "base_uri": "https://localhost:8080/",
          "height": 295
        },
        "id": "0e9mmXfVqIBa",
        "outputId": "913ef4b5-8664-42d1-f346-e13a23d46b38"
      },
      "source": [
        "plt.plot(x,y)\n",
        "plt.title(\"Independent Values vs Dependent\")\n",
        "plt.xlabel('Years')\n",
        "plt.ylabel('Salary')\n",
        "plt.show()"
      ],
      "execution_count": null,
      "outputs": [
        {
          "output_type": "display_data",
          "data": {
            "image/png": "[encoded data removed]",
            "text/plain": [
              "<Figure size 432x288 with 1 Axes>"
            ]
          },
          "metadata": {
            "needs_background": "light"
          }
        }
      ]
    },
    {
      "cell_type": "code",
      "metadata": {
        "colab": {
          "base_uri": "https://localhost:8080/"
        },
        "id": "RAhIX5RnqfPU",
        "outputId": "496b3832-182b-41a1-8873-0072a9fc9dd4"
      },
      "source": [
        "for i in range(4): \n",
        "  Y_temp = []\n",
        "  for j in range(size):\n",
        "    temp = (b0[i] + (b1[i]*x[j]))\n",
        "    Y_temp.append((y[j] - temp)**2 ) \n",
        "  print(f\"Mean Square Error for Beta values {b0[i]} and {b1[i]} is -:-  {np.mean(Y_temp)}\")"
      ],
      "execution_count": null,
      "outputs": [
        {
          "output_type": "stream",
          "name": "stdout",
          "text": [
            "Mean Square Error for Beta values 1235 and 1900 is -:-  3320373537.3076925\n",
            "Mean Square Error for Beta values 1500 and 1950 is -:-  3264631537.6923075\n",
            "Mean Square Error for Beta values 1850 and 2000 is -:-  3199907304.6153846\n",
            "Mean Square Error for Beta values 2000 and 2100 is -:-  3132651969.230769\n"
          ]
        }
      ]
    }
  ]
}
